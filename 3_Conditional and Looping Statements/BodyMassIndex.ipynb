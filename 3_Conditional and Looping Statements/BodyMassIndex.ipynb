{
 "cells": [
  {
   "cell_type": "code",
   "execution_count": 15,
   "id": "0ccdd7cb-8223-48c3-a39f-6e0decab1f84",
   "metadata": {},
   "outputs": [
    {
     "name": "stdin",
     "output_type": "stream",
     "text": [
      "Enter your weight in (kg): 75\n",
      "Enter your height in (m): 1.5\n"
     ]
    },
    {
     "name": "stdout",
     "output_type": "stream",
     "text": [
      "Your BMI is: 50.0, You are in the “Excessweight” range.\n"
     ]
    }
   ],
   "source": [
    "#Exercise 3 Name your file: BodyMassIndex.py Write a program to calculate your BMI and give weight status. \n",
    "#Body Mass Index (BMI) is an internationally used measurement to check if you are a healthy weight for your height.\n",
    "#The metric BMI formula accepts weight in kilograms and height in meters: BMI= weight(kg)/height2(m2) \n",
    "#BMI Weight Status Categories table BMI range - kg/m2 Category Below 18.5 Underweight 18.5 -24.9 Normal 25 - 29.9 Overweight 30 & Above \n",
    "#Obese An example run of the program (numbers in bold are typed in by the user) Enter your weight in (kg): 75 \n",
    "#Enter your height in (m): 1.70 Your BMI is: 25.95 You are in the “overweight” range.\n",
    "\n",
    "weightKg = int(input(\"Enter your weight in (kg):\"))\n",
    "heightMts = float(input(\"Enter your height in (m):\"))\n",
    "bodyMas = float(weightKg/heightMts)\n",
    "\n",
    "if(bodyMas > 18.5 and bodyMas < 24.9):\n",
    "    print(f\"Your BMI is: {bodyMas}, You are in the “Underweight” range.\")\n",
    "elif(bodyMas > 25 and bodyMas < 29.9):\n",
    "    print(f\"Your BMI is: {bodyMas}, You are in the “Normal” range.\")\n",
    "elif(bodyMas > 25 and bodyMas < 29.9):\n",
    "    print(f\"Your BMI is: {bodyMas}, You are in the “Overweight” range.\")\n",
    "else:\n",
    "    print(f\"Your BMI is: {bodyMas}, You are in the “Excessweight” range.\")\n"
   ]
  },
  {
   "cell_type": "code",
   "execution_count": null,
   "id": "e17e2b4b-2edf-48a6-893c-3e01e4b980b8",
   "metadata": {},
   "outputs": [],
   "source": []
  }
 ],
 "metadata": {
  "kernelspec": {
   "display_name": "Python [conda env:base] *",
   "language": "python",
   "name": "conda-base-py"
  },
  "language_info": {
   "codemirror_mode": {
    "name": "ipython",
    "version": 3
   },
   "file_extension": ".py",
   "mimetype": "text/x-python",
   "name": "python",
   "nbconvert_exporter": "python",
   "pygments_lexer": "ipython3",
   "version": "3.12.7"
  }
 },
 "nbformat": 4,
 "nbformat_minor": 5
}
