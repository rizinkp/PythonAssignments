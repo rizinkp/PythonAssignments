{
 "cells": [
  {
   "cell_type": "markdown",
   "id": "f0444f11-26ea-4667-a259-14354c504f3c",
   "metadata": {},
   "source": [
    "# Currency Converter Pound to USD"
   ]
  },
  {
   "cell_type": "code",
   "execution_count": 6,
   "id": "3f4cdb6a-48e5-4831-abb8-51410ff91445",
   "metadata": {},
   "outputs": [],
   "source": [
    "# Exercise 10\n",
    "# Write a program that asks the user to enter an amount in pounds (£) and the program calculates and converts an amount in dollar ($)"
   ]
  },
  {
   "cell_type": "code",
   "execution_count": 8,
   "id": "32a97fc3-2c24-4fff-9f38-f94183bf7ef1",
   "metadata": {},
   "outputs": [
    {
     "name": "stdout",
     "output_type": "stream",
     "text": [
      "Welcome to the Currency Converter\n"
     ]
    },
    {
     "name": "stdin",
     "output_type": "stream",
     "text": [
      "Please enter amount in pounds: 165\n"
     ]
    },
    {
     "name": "stdout",
     "output_type": "stream",
     "text": [
      "£ 165.0 are $ 206.25\n"
     ]
    }
   ],
   "source": [
    "print(\"Welcome to the Currency Converter\")\n",
    "amountInPound = float(input(\"Please enter amount in pounds:\"))\n",
    "\n",
    "USDRate_inPound = 1.25\n",
    "\n",
    "USD_amount = amountInPound * USDRate_inPound\n",
    "\n",
    "print(f\"£ {amountInPound} are $ {USD_amount}\")"
   ]
  },
  {
   "cell_type": "code",
   "execution_count": null,
   "id": "f3f8a92d-28a7-47ae-a1a8-20da8f875f7c",
   "metadata": {},
   "outputs": [],
   "source": []
  }
 ],
 "metadata": {
  "kernelspec": {
   "display_name": "Python [conda env:base] *",
   "language": "python",
   "name": "conda-base-py"
  },
  "language_info": {
   "codemirror_mode": {
    "name": "ipython",
    "version": 3
   },
   "file_extension": ".py",
   "mimetype": "text/x-python",
   "name": "python",
   "nbconvert_exporter": "python",
   "pygments_lexer": "ipython3",
   "version": "3.12.7"
  }
 },
 "nbformat": 4,
 "nbformat_minor": 5
}
