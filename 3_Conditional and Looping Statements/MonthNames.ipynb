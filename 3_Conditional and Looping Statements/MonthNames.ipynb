{
 "cells": [
  {
   "cell_type": "code",
   "execution_count": 11,
   "id": "09ef0a21-2dac-4aff-ae33-dac1e3eaf334",
   "metadata": {},
   "outputs": [
    {
     "name": "stdin",
     "output_type": "stream",
     "text": [
      "Enter the month in number 1 to 12:  33\n"
     ]
    },
    {
     "name": "stdout",
     "output_type": "stream",
     "text": [
      "Invalid Month\n"
     ]
    }
   ],
   "source": [
    "#Exercise 1 Name your file: MonthNames.py Write a program that reads an integer value between 1 and 12 from the user and prints output the corresponding \n",
    "#    month of the year. An example run of the program (numbers in bold are typed in by the user) Enter the month: 3 Month 3 is March \n",
    "\n",
    "\n",
    "monthNumber = input(\"Enter the month in number 1 to 12: \")\n",
    "\n",
    "if(int(monthNumber) > 0 and int(monthNumber) <= 12):\n",
    "    monthName = \"\"\n",
    "    monthNumber = int(monthNumber)\n",
    "    if(monthNumber == 1):\n",
    "        monthName = \"January\"\n",
    "    elif(monthNumber == 2):\n",
    "        monthName = \"February\"\n",
    "    elif(monthNumber == 3):\n",
    "        monthName = \"March\"\n",
    "    elif(monthNumber == 4):\n",
    "        monthName = \"April\"\n",
    "    elif(monthNumber == 5):\n",
    "        monthName = \"May\"\n",
    "    elif(monthNumber == 6):\n",
    "        monthName = \"June\"\n",
    "    elif(monthNumber == 7):\n",
    "        monthName = \"July\"\n",
    "    elif(monthNumber == 8):\n",
    "        monthName = \"August\"\n",
    "    elif(monthNumber == 9):\n",
    "        monthName = \"Septempber\"\n",
    "    elif(monthNumber == 10):\n",
    "        monthName = \"October\"\n",
    "    elif(monthNumber == 11):\n",
    "        monthName = \"November\"\n",
    "    elif(monthNumber == 12):\n",
    "        monthName = \"December\"\n",
    "    print(f\"Month {monthNumber} is {monthName}\")\n",
    "else:\n",
    "    print(\"Invalid Month\")"
   ]
  },
  {
   "cell_type": "code",
   "execution_count": null,
   "id": "35f8bb47-575f-4700-ac93-7c2541d41a44",
   "metadata": {},
   "outputs": [],
   "source": []
  }
 ],
 "metadata": {
  "kernelspec": {
   "display_name": "Python [conda env:base] *",
   "language": "python",
   "name": "conda-base-py"
  },
  "language_info": {
   "codemirror_mode": {
    "name": "ipython",
    "version": 3
   },
   "file_extension": ".py",
   "mimetype": "text/x-python",
   "name": "python",
   "nbconvert_exporter": "python",
   "pygments_lexer": "ipython3",
   "version": "3.12.7"
  }
 },
 "nbformat": 4,
 "nbformat_minor": 5
}
