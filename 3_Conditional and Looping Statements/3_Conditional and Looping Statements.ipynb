{
 "cells": [
  {
   "cell_type": "code",
   "execution_count": 9,
   "id": "88bc68a7-b9b0-4be3-80fa-00309e8dcacb",
   "metadata": {},
   "outputs": [
    {
     "name": "stdin",
     "output_type": "stream",
     "text": [
      "Enter your age:  5\n"
     ]
    },
    {
     "name": "stdout",
     "output_type": "stream",
     "text": [
      "Your ticket costs £3.0\n"
     ]
    }
   ],
   "source": [
    "#Exercise 2 A certain cinema currently sells tickets for a full price of 6 pounds, but always sells tickets for half price to people who are less than 16 years old, and for a third of the price for people who are 60 years old or more. An example run of the program (numbers in bold are typed in by the user) Enter your age: 63 Your ticket costs £2.00.\n",
    "\n",
    "age = int(input(\"Enter your age: \"))\n",
    "\n",
    "fullTicketPrice = 6\n",
    "\n",
    "if(age < 16):\n",
    "    print(f\"Your ticket costs £{fullTicketPrice / 2}\");\n",
    "elif(age >= 60):\n",
    "    print(f\"Your ticket costs £{fullTicketPrice / 3}\");\n",
    "else:\n",
    "    print(f\"Your ticket costs £{fullTicketPrice}\");\n"
   ]
  },
  {
   "cell_type": "code",
   "execution_count": 49,
   "id": "2cd1d516-9562-450a-9086-13a97eb1c742",
   "metadata": {},
   "outputs": [
    {
     "name": "stdin",
     "output_type": "stream",
     "text": [
      "Enter a number 55\n",
      "Enter a number 773\n",
      "Enter a number 99\n"
     ]
    },
    {
     "name": "stdout",
     "output_type": "stream",
     "text": [
      "entered numbers are [55, 773, 99]\n",
      "Greatest numner is: 773\n"
     ]
    }
   ],
   "source": [
    "#Exercise 4 Write a Python program to receive 3 numbers from the user and print the greatest among them. \n",
    "\n",
    "userNumberList = [];\n",
    "for i in range(3):\n",
    "    userNumber = int(input(\"Enter a number\"))\n",
    "    userNumberList.append(userNumber)\n",
    "    \n",
    "print(f\"entered numbers are {userNumberList}\")\n",
    "userNumberList.sort(reverse=True)\n",
    "print(f\"Greatest numner is: {userNumberList[0]}\")"
   ]
  },
  {
   "cell_type": "code",
   "execution_count": 55,
   "id": "fea2b463-092d-40ae-b82c-03fe163dbbba",
   "metadata": {},
   "outputs": [
    {
     "name": "stdin",
     "output_type": "stream",
     "text": [
      "Enter a number to calculate its factorial:  3\n"
     ]
    },
    {
     "name": "stdout",
     "output_type": "stream",
     "text": [
      "The factorial of 3 is 6.\n"
     ]
    }
   ],
   "source": [
    "#Exercise 5 Find the factorial of a given number using loops(note the number is received from the user) \n",
    "\n",
    "num = int(input(\"Enter a number to calculate its factorial: \"))\n",
    "\n",
    "factorial = 1\n",
    "\n",
    "if num < 0:\n",
    "    print(\"Factorial is not defined for negative numbers.\")\n",
    "elif num == 0 or num == 1:\n",
    "    print(f\"The factorial of {num} is 1.\")\n",
    "else:\n",
    "    for i in range(1, num + 1):\n",
    "        factorial *= i\n",
    "    print(f\"The factorial of {num} is {factorial}.\")\n"
   ]
  },
  {
   "cell_type": "code",
   "execution_count": 69,
   "id": "52f4c368-7e53-49c6-ac71-170b6162709f",
   "metadata": {},
   "outputs": [
    {
     "name": "stdin",
     "output_type": "stream",
     "text": [
      "Enter a number to reverse:  1234\n"
     ]
    },
    {
     "name": "stdout",
     "output_type": "stream",
     "text": [
      "The reverse of 1234 is 4321.\n"
     ]
    }
   ],
   "source": [
    "#Exercise 6 Reverse a number using while loop \n",
    "\n",
    "num = int(input(\"Enter a number to reverse: \"))\n",
    "\n",
    "# Initialize variables\n",
    "reversed_num = 0\n",
    "original_num = num\n",
    "\n",
    "while num != 0:\n",
    "    digit = num % 10  # Get the last digit\n",
    "    reversed_num = reversed_num * 10 + digit  # store reversed number\n",
    "    num = int(num / 10)  # Remove the last digit from the number\n",
    "\n",
    "print(f\"The reverse of {original_num} is {reversed_num}.\")\n"
   ]
  },
  {
   "cell_type": "code",
   "execution_count": 79,
   "id": "b9166ca8-25d7-4914-8207-82ca6148aa3b",
   "metadata": {},
   "outputs": [
    {
     "name": "stdin",
     "output_type": "stream",
     "text": [
      "Enter the number to find its multiples:  2\n",
      "Enter how many multiples you want:  10\n"
     ]
    },
    {
     "name": "stdout",
     "output_type": "stream",
     "text": [
      "The first 10 multiples of 2 are:\n",
      " 1 * 2 = 2\n",
      " 2 * 2 = 4\n",
      " 3 * 2 = 6\n",
      " 4 * 2 = 8\n",
      " 5 * 2 = 10\n",
      " 6 * 2 = 12\n",
      " 7 * 2 = 14\n",
      " 8 * 2 = 16\n",
      " 9 * 2 = 18\n",
      " 10 * 2 = 20\n"
     ]
    }
   ],
   "source": [
    "#Exercise 7 Finding the multiples of a number using loop \n",
    "\n",
    "num = int(input(\"Enter the number to find its multiples: \"))\n",
    "count = int(input(\"Enter how many multiples you want: \"))\n",
    "\n",
    "print(f\"The first {count} multiples of {num} are:\")\n",
    "\n",
    "for i in range(1, count + 1):\n",
    "    print(f\" {i} * {num} = {num * i}\")\n"
   ]
  },
  {
   "cell_type": "code",
   "execution_count": 41,
   "id": "20273419-1bdf-42cc-a742-ffb6fffcaaba",
   "metadata": {},
   "outputs": [
    {
     "name": "stdin",
     "output_type": "stream",
     "text": [
      "Enter a string ff\n"
     ]
    },
    {
     "name": "stdout",
     "output_type": "stream",
     "text": [
      "ff\n"
     ]
    },
    {
     "name": "stdin",
     "output_type": "stream",
     "text": [
      "Enter a string done\n"
     ]
    },
    {
     "name": "stdout",
     "output_type": "stream",
     "text": [
      "done\n"
     ]
    }
   ],
   "source": [
    "#Exercise 8 Write a program to print the inputted value as it is and break the loop if the value is 'done'. \n",
    "#Example run of the program :hello there hello there :finished finished :done Done \n",
    "\n",
    "while(True):\n",
    "    inputString = input(\"Enter a string\")\n",
    "    print(inputString)\n",
    "    if(inputString.lower() == \"done\"):\n",
    "        break\n"
   ]
  },
  {
   "cell_type": "code",
   "execution_count": 25,
   "id": "3b63344d-eda9-49cc-8a4f-10c15db63a68",
   "metadata": {},
   "outputs": [
    {
     "name": "stdout",
     "output_type": "stream",
     "text": [
      "1\n",
      "2\n",
      "Fizz\n",
      "4\n",
      "Buzz\n",
      "Fizz\n",
      "7\n",
      "8\n",
      "Fizz\n",
      "Buzz\n"
     ]
    }
   ],
   "source": [
    "#Exercise 9 Write a program that prints the numbers from 1 to 10. But for multiples of three print \"Fizz\" instead of the number and for the multiple of five print \"Buzz\". For numbers which are multiples of both three and five print \"FizzBuzz\" \n",
    "\n",
    "for i in range(1, 11):\n",
    "    if(i % 3 == 0 and i % 5 == 0):\n",
    "        print(\"FizzBuzz\")\n",
    "    elif(i % 3 == 0):\n",
    "        print(\"Fizz\")\n",
    "    elif(i % 5 == 0):\n",
    "        print(\"Buzz\")    \n",
    "    else:\n",
    "        print(i)\n"
   ]
  },
  {
   "cell_type": "code",
   "execution_count": 39,
   "id": "9c35e2da-7af5-47c3-96ee-9e635f7578c2",
   "metadata": {},
   "outputs": [
    {
     "name": "stdout",
     "output_type": "stream",
     "text": [
      "5 4 3 2 1 4 3 2 1 3 2 1 2 1 1 \n"
     ]
    }
   ],
   "source": [
    "#Exercise 10 Write a program to print the following pattern: 5 4 3 2 1 4 3 2 1 3 2 1 2 1 1\n",
    "\n",
    "# Number of rows in the pattern\n",
    "rows = 5\n",
    "pattern = \"\";\n",
    "\n",
    "for i in range(rows, 0, -1):\n",
    "    for j in range(i, 0, -1):        \n",
    "        pattern = pattern + str(j) + \" \"           \n",
    "print(pattern)\n"
   ]
  },
  {
   "cell_type": "code",
   "execution_count": null,
   "id": "0bd3ddb2-c306-49d7-964b-03a37a39d416",
   "metadata": {},
   "outputs": [],
   "source": []
  }
 ],
 "metadata": {
  "kernelspec": {
   "display_name": "Python [conda env:base] *",
   "language": "python",
   "name": "conda-base-py"
  },
  "language_info": {
   "codemirror_mode": {
    "name": "ipython",
    "version": 3
   },
   "file_extension": ".py",
   "mimetype": "text/x-python",
   "name": "python",
   "nbconvert_exporter": "python",
   "pygments_lexer": "ipython3",
   "version": "3.12.7"
  }
 },
 "nbformat": 4,
 "nbformat_minor": 5
}
