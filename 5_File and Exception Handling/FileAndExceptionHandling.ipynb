{
 "cells": [
  {
   "cell_type": "code",
   "execution_count": 37,
   "id": "a79f0930-f8ff-4612-8731-1d83973dfb36",
   "metadata": {},
   "outputs": [
    {
     "name": "stdout",
     "output_type": "stream",
     "text": [
      "File Contents:\n",
      "\n",
      "Hello! This is a test string written to the file.\n"
     ]
    }
   ],
   "source": [
    "#1. Write a Python program to read a file and display its contents\n",
    "def read_file(file_path):\n",
    "    try:\n",
    "        with open(file_path, 'r') as file:\n",
    "            contents = file.read()\n",
    "            print(\"File Contents:\\n\")\n",
    "            print(contents)\n",
    "    except FileNotFoundError:\n",
    "        print(f\"Error: The file '{file_path}' was not found.\")\n",
    "    except Exception as e:\n",
    "        print(f\"An error occurred: {e}\")\n",
    "\n",
    "# Replace 'example.txt' with your file name or path\n",
    "file_path = 'AssignmentExample.txt'\n",
    "read_file(file_path)\n"
   ]
  },
  {
   "cell_type": "code",
   "execution_count": 13,
   "id": "2a175c0a-e0e6-4aae-8535-f907e0119879",
   "metadata": {},
   "outputs": [
    {
     "name": "stdout",
     "output_type": "stream",
     "text": [
      "Contents copied from 'AssignmentExample.txt' to 'AssignmentCopyDestination.txt' successfully.\n"
     ]
    }
   ],
   "source": [
    "#2. Write a Python program to copy the contents of one file to another file\n",
    "def copy_file(source_file, destination_file):\n",
    "    try:\n",
    "        with open(source_file, 'r') as src:\n",
    "            content = src.read()\n",
    "\n",
    "        with open(destination_file, 'w') as dest:\n",
    "            dest.write(content)\n",
    "\n",
    "        print(f\"Contents copied from '{source_file}' to '{destination_file}' successfully.\")\n",
    "    except FileNotFoundError:\n",
    "        print(f\"Error: '{source_file}' not found.\")\n",
    "    except Exception as e:\n",
    "        print(f\"An error occurred: {e}\")\n",
    "\n",
    "# Example usage\n",
    "source = 'AssignmentExample.txt'\n",
    "destination = 'AssignmentCopyDestination.txt'\n",
    "copy_file(source, destination)\n"
   ]
  },
  {
   "cell_type": "code",
   "execution_count": 23,
   "id": "89294641-06ae-43b1-8879-eb40b4533565",
   "metadata": {},
   "outputs": [
    {
     "name": "stdout",
     "output_type": "stream",
     "text": [
      "Total number of words in 'AssignmentCopyDestination.txt': 10\n"
     ]
    }
   ],
   "source": [
    "#3. Write a Python program to read the content of a file and count the total number of words in that file.\n",
    "def count_words_in_file(file_path):\n",
    "    try:\n",
    "        with open(file_path, 'r') as file:\n",
    "            content = file.read()\n",
    "            words = content.split()\n",
    "            word_count = len(words)\n",
    "            print(f\"Total number of words in '{file_path}': {word_count}\")\n",
    "    except FileNotFoundError:\n",
    "        print(f\"Error: The file '{file_path}' was not found.\")\n",
    "    except Exception as e:\n",
    "        print(f\"An error occurred: {e}\")\n",
    "\n",
    "# Example usage\n",
    "file_path = 'AssignmentCopyDestination.txt'\n",
    "count_words_in_file(file_path)\n"
   ]
  },
  {
   "cell_type": "code",
   "execution_count": 27,
   "id": "ae311a0a-1bfe-47f1-ac67-06a1355d9bff",
   "metadata": {},
   "outputs": [
    {
     "name": "stdin",
     "output_type": "stream",
     "text": [
      "Enter a number:  10\n"
     ]
    },
    {
     "name": "stdout",
     "output_type": "stream",
     "text": [
      "The integer value is: 10\n"
     ]
    }
   ],
   "source": [
    "#4. Write a Python program that prompts the user to input a string and converts it to an integer. Use try-except blocks to handle any exceptions that might occur\n",
    "def convert_input_to_integer():\n",
    "    user_input = input(\"Enter a number: \")\n",
    "\n",
    "    try:\n",
    "        number = int(user_input)\n",
    "        print(f\"The integer value is: {number}\")\n",
    "    except ValueError:\n",
    "        print(\"Error: Invalid input. Please enter a valid integer.\")\n",
    "\n",
    "convert_input_to_integer()\n"
   ]
  },
  {
   "cell_type": "code",
   "execution_count": 31,
   "id": "408a324e-17e5-4b00-8bdf-378a94ad39b0",
   "metadata": {},
   "outputs": [
    {
     "name": "stdin",
     "output_type": "stream",
     "text": [
      "Enter a list of integers separated by spaces:  1 22 5 3 5\n"
     ]
    },
    {
     "name": "stdout",
     "output_type": "stream",
     "text": [
      "All numbers are non-negative.\n",
      "Your list: [1, 22, 5, 3, 5]\n"
     ]
    }
   ],
   "source": [
    "#5. Write a Python program that prompts the user to input a list of integers and raises an exception if any of the integers in the list are negative\n",
    "def get_positive_integers():\n",
    "    try:\n",
    "        user_input = input(\"Enter a list of integers separated by spaces: \")\n",
    "        numbers = list(map(int, user_input.split()))\n",
    "\n",
    "        for num in numbers:\n",
    "            if num < 0:\n",
    "                raise ValueError(f\"Negative number found: {num}\")\n",
    "\n",
    "        print(\"All numbers are non-negative.\")\n",
    "        print(\"Your list:\", numbers)\n",
    "\n",
    "    except ValueError as e:\n",
    "        print(f\"Error: {e}\")\n",
    "\n",
    "get_positive_integers()\n"
   ]
  },
  {
   "cell_type": "code",
   "execution_count": 33,
   "id": "7a6a77cf-d3bd-43c3-bd19-4d4dec59d3af",
   "metadata": {},
   "outputs": [
    {
     "name": "stdin",
     "output_type": "stream",
     "text": [
      "Enter a list of integers separated by spaces:  1 2 5 2 3 6\n"
     ]
    },
    {
     "name": "stdout",
     "output_type": "stream",
     "text": [
      "The average is: 3.17\n",
      "Program has finished running.\n"
     ]
    }
   ],
   "source": [
    "#6. Write a Python program that prompts the user to input a list of integers and computes the average of those integers. Use try-except blocks to handle any exceptions that might occur.use the finally clause to print a message indicating that the program has finished running.\n",
    "def compute_average():\n",
    "    try:\n",
    "        # Prompt the user to enter a list of integers separated by spaces\n",
    "        user_input = input(\"Enter a list of integers separated by spaces: \")\n",
    "        \n",
    "        # Convert the input string into a list of integers\n",
    "        numbers = list(map(int, user_input.split()))\n",
    "        \n",
    "        # Check if the list is empty\n",
    "        if not numbers:\n",
    "            raise ValueError(\"The list is empty. Cannot compute average.\")\n",
    "        \n",
    "        # Compute the average\n",
    "        average = sum(numbers) / len(numbers)\n",
    "        print(f\"The average is: {average:.2f}\")\n",
    "    \n",
    "    except ValueError as ve:\n",
    "        print(f\"ValueError: {ve}\")\n",
    "    \n",
    "    except Exception as e:\n",
    "        print(f\"An unexpected error occurred: {e}\")\n",
    "    \n",
    "    finally:\n",
    "        print(\"Program has finished running.\")\n",
    "\n",
    "# Run the function\n",
    "compute_average()\n"
   ]
  },
  {
   "cell_type": "code",
   "execution_count": 35,
   "id": "7ed3fb2d-8077-4bf5-9bed-ee7877dba9df",
   "metadata": {},
   "outputs": [
    {
     "name": "stdin",
     "output_type": "stream",
     "text": [
      "Enter the filename to write to:  AssignmentExample.txt\n"
     ]
    },
    {
     "name": "stdout",
     "output_type": "stream",
     "text": [
      "File written successfully. Welcome!\n"
     ]
    }
   ],
   "source": [
    "#7. Write a Python program that prompts the user to input a filename and writes a string to that file. Use try-except blocks to handle any exceptions that might occur and print a welcome message if there is no exception occurred.\n",
    "def write_to_file():\n",
    "    try:\n",
    "        # Prompt the user for a filename\n",
    "        filename = input(\"Enter the filename to write to: \")\n",
    "        \n",
    "        # Define the content to write\n",
    "        content = \"Hello! This is a test string written to the file.\"\n",
    "        \n",
    "        # Open the file in write mode and write the content\n",
    "        with open(filename, 'w') as file:\n",
    "            file.write(content)\n",
    "        \n",
    "        # Print welcome message if no exceptions occur\n",
    "        print(\"File written successfully. Welcome!\")\n",
    "    \n",
    "    except Exception as e:\n",
    "        print(f\"An error occurred: {e}\")\n",
    "\n",
    "# Run the function\n",
    "write_to_file()\n"
   ]
  },
  {
   "cell_type": "code",
   "execution_count": null,
   "id": "da28d6a6-0ad7-46f6-a712-f3fa9d4f07d1",
   "metadata": {},
   "outputs": [],
   "source": []
  }
 ],
 "metadata": {
  "kernelspec": {
   "display_name": "Python [conda env:base] *",
   "language": "python",
   "name": "conda-base-py"
  },
  "language_info": {
   "codemirror_mode": {
    "name": "ipython",
    "version": 3
   },
   "file_extension": ".py",
   "mimetype": "text/x-python",
   "name": "python",
   "nbconvert_exporter": "python",
   "pygments_lexer": "ipython3",
   "version": "3.12.7"
  }
 },
 "nbformat": 4,
 "nbformat_minor": 5
}
