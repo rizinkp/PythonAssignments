{
 "cells": [
  {
   "cell_type": "markdown",
   "id": "7ba64ea4-a634-430f-bccc-27a3714800c9",
   "metadata": {},
   "source": [
    "# Python Fundamentals Assignments"
   ]
  },
  {
   "cell_type": "code",
   "execution_count": 2,
   "id": "5c549c14-141b-46ba-95e5-bcc3f596f70f",
   "metadata": {},
   "outputs": [
    {
     "name": "stdout",
     "output_type": "stream",
     "text": [
      "Rizin Hussain KP\n",
      "ST101\n",
      "rizihuss123@gmail.com\n"
     ]
    }
   ],
   "source": [
    "# Exercise 1  \n",
    "# Write Python code that prints your name, student number and email address.  \n",
    "\n",
    "print('Rizin Hussain KP')\n",
    "print('ST101')\n",
    "print('rizihuss123@gmail.com')\n"
   ]
  },
  {
   "cell_type": "code",
   "execution_count": 8,
   "id": "8c54ceb0-23a5-47b3-9625-102265de3cf1",
   "metadata": {},
   "outputs": [
    {
     "name": "stdout",
     "output_type": "stream",
     "text": [
      "Rizin Hussain KP\n",
      "ST101\n",
      "rizihuss123@gmail.com\n"
     ]
    }
   ],
   "source": [
    "# Exercise 2 \n",
    "# Write Python code that prints your name, student number and email address using escape sequences.\n",
    "\n",
    "print(\"Rizin Hussain KP\\nST101\\nrizihuss123@gmail.com\")"
   ]
  },
  {
   "cell_type": "code",
   "execution_count": 16,
   "id": "5e5b8760-3bfd-42a2-8607-b3b4f938c3e2",
   "metadata": {},
   "outputs": [
    {
     "name": "stdout",
     "output_type": "stream",
     "text": [
      "21\n",
      "7\n",
      "98\n",
      "2.0\n"
     ]
    }
   ],
   "source": [
    "# Exercise 3  \n",
    "# Write Python code that add, subtract, multiply and divide the two numbers. You can use the two numbers 14 and 7.\n",
    "\n",
    "number1 = 14 \n",
    "number2 = 7\n",
    "\n",
    "addNumberResult = number1 + number2\n",
    "subtractResult = number1 - number2\n",
    "multiplyResult = number1 * number2\n",
    "divideResult = number1 / number2\n",
    "\n",
    "print(addNumberResult)\n",
    "print(subtractResult)\n",
    "print(multiplyResult)\n",
    "print(divideResult)"
   ]
  },
  {
   "cell_type": "code",
   "execution_count": 22,
   "id": "8eb5d4ca-0bf5-4ffb-aca9-a429ee5b76dd",
   "metadata": {},
   "outputs": [
    {
     "name": "stdout",
     "output_type": "stream",
     "text": [
      "1\n",
      "    2\n",
      "        3\n",
      "            4\n",
      "                5\n"
     ]
    }
   ],
   "source": [
    "# Exercise 4\n",
    "# Write Python code that displays the numbers from 1 to 5 as steps.\n",
    "\n",
    "print(\"\"\"1\n",
    "    2\n",
    "        3\n",
    "            4\n",
    "                5\"\"\")"
   ]
  },
  {
   "cell_type": "code",
   "execution_count": 24,
   "id": "fc02b971-c125-4698-a44a-9f9155413f81",
   "metadata": {},
   "outputs": [
    {
     "name": "stdout",
     "output_type": "stream",
     "text": [
      "\"SDK\" stands for \"Software Development Kit\", whereas \"IDE\" stands for \"Integrated Development Environment\".\n"
     ]
    }
   ],
   "source": [
    "# Exercise 5\n",
    "# Write Python code that outputs the following sentence (including the quotation marks and line break) to the screen:\n",
    "\n",
    "print(\"\\\"SDK\\\" stands for \\\"Software Development Kit\\\", whereas \\\"IDE\\\" stands for \\\"Integrated Development Environment\\\".\")\n",
    "\n"
   ]
  },
  {
   "cell_type": "code",
   "execution_count": 26,
   "id": "08773140-1eaa-460c-a8aa-f235df0a23cd",
   "metadata": {},
   "outputs": [
    {
     "name": "stdout",
     "output_type": "stream",
     "text": [
      "python is an \"awesome\" language.\n",
      "python\n",
      "\t2023\n",
      "I'm from Entri\n",
      "5\n",
      "e\n",
      "Entri\n",
      "2023\n",
      "Entr2023\n",
      "Entri*20"
     ]
    }
   ],
   "source": [
    "# Exercise 6\n",
    "# Practice and check the output\n",
    "\n",
    "print(\"python is an \\\"awesome\\\" language.\")\n",
    "print(\"python\\n\\t2023\")\n",
    "print('I\\'m from Entri.\\b')\n",
    "print(\"\\65\")\n",
    "print(\"\\x65\")\n",
    "print(\"Entri\", \"2023\", sep=\"\\n\")\n",
    "print(\"Entri\", \"2023\", sep=\"\\b\")\n",
    "print(\"Entri\", \"2023\", sep=\"*\", end=\"\\b\\b\\b\\b\")\n"
   ]
  },
  {
   "cell_type": "code",
   "execution_count": 34,
   "id": "4f2531b8-d2ce-460d-803f-a28994f0c2ca",
   "metadata": {},
   "outputs": [
    {
     "name": "stdout",
     "output_type": "stream",
     "text": [
      "<class 'int'>\n",
      "<class 'str'>\n",
      "<class 'float'>\n",
      "Sum of three numbers is 178.3\n"
     ]
    }
   ],
   "source": [
    "# Exercise 7\n",
    "# Define the variables below. Print the types of each variable. What is the sum of your variables? (Hint: use a type conversion function.) \n",
    "# What datatype is the sum?\n",
    "\n",
    "num=23\n",
    "textnum=\"57\"\n",
    "decimal=98.3\n",
    "\n",
    "print(type(num))\n",
    "print(type(textnum))\n",
    "print(type(decimal))\n",
    "\n",
    "sum = num + int(textnum) + decimal\n",
    "print(f\"Sum of three numbers is {sum}\")"
   ]
  },
  {
   "cell_type": "code",
   "execution_count": 7,
   "id": "b77cdeca-79ba-4567-9dfb-d15cf266903c",
   "metadata": {},
   "outputs": [
    {
     "name": "stdout",
     "output_type": "stream",
     "text": [
      "This program displays total number of minutes in a year by using three values, No.of days in an year | Hours in a day | Minutes in an hour\n",
      "\n",
      "No.of days in an year: 365\n",
      "\n",
      "Hours in a day: 24\n",
      "\n",
      "Minutes in an hour: 60\n",
      "\n",
      "total number of minutes in an year = 525600\n"
     ]
    }
   ],
   "source": [
    "# Exercise 8\n",
    "# calculate the number of minutes in a year using variables for each unit of time. print a statement that describes what your code does also. \n",
    "# Create three variables to store no of days in a year, minute in a hour, hours in a day, then calculate the total minutes in a year and print the values\n",
    "# (hint) total number of minutes in an year = No.of days in an year * Hours in a day * Minutes in an hour\n",
    "\n",
    "print(\"This program displays total number of minutes in a year by using three values, No.of days in an year | Hours in a day | Minutes in an hour\\n\")\n",
    "\n",
    "year_NumberOfDays = 365\n",
    "dayHours = 24\n",
    "hour_TotalMinutes = 60\n",
    "\n",
    "total_minutes_year = year_NumberOfDays * dayHours * hour_TotalMinutes\n",
    "\n",
    "print(f\"No.of days in an year: {year_NumberOfDays}\\n\")\n",
    "print(f\"Hours in a day: {dayHours}\\n\")\n",
    "print(f\"Minutes in an hour: {hour_TotalMinutes}\\n\")\n",
    "print(f\"total number of minutes in an year = {total_minutes_year}\")"
   ]
  },
  {
   "cell_type": "code",
   "execution_count": 15,
   "id": "d3199693-ecc5-4dcf-a43e-81b4f2e78e4d",
   "metadata": {},
   "outputs": [
    {
     "name": "stdin",
     "output_type": "stream",
     "text": [
      "Please enter you name: Rizin\n"
     ]
    },
    {
     "name": "stdout",
     "output_type": "stream",
     "text": [
      "Hi Rizin, welcome to Python programming :)\n"
     ]
    }
   ],
   "source": [
    "#Exercise 9\n",
    "#Write Python code that asks the user to enter his/her name and then output/prints his/her name with a greeting.\n",
    "\n",
    "name = input(\"Please enter you name:\")\n",
    "print(f\"Hi {name}, welcome to Python programming :)\")"
   ]
  },
  {
   "cell_type": "code",
   "execution_count": null,
   "id": "e5dd7d1d-617e-4113-8f04-98d36bbfa3fe",
   "metadata": {},
   "outputs": [],
   "source": []
  }
 ],
 "metadata": {
  "kernelspec": {
   "display_name": "Python [conda env:base] *",
   "language": "python",
   "name": "conda-base-py"
  },
  "language_info": {
   "codemirror_mode": {
    "name": "ipython",
    "version": 3
   },
   "file_extension": ".py",
   "mimetype": "text/x-python",
   "name": "python",
   "nbconvert_exporter": "python",
   "pygments_lexer": "ipython3",
   "version": "3.12.7"
  }
 },
 "nbformat": 4,
 "nbformat_minor": 5
}
