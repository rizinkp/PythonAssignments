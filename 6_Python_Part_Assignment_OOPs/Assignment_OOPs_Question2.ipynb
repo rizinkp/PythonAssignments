{
 "cells": [
  {
   "cell_type": "code",
   "execution_count": 9,
   "id": "3705af98-7aa4-4f6e-951d-62c75d172e0a",
   "metadata": {},
   "outputs": [
    {
     "name": "stdout",
     "output_type": "stream",
     "text": [
      "Employee Name: Alice\n",
      "Employee Salary: 75000\n"
     ]
    }
   ],
   "source": [
    "#2. Create a Python module named employee that contains a class Employee with attributes name, salary and methods get_name() and get_salary(). \n",
    "# Write a program to use this module to create an object of the Employee class and display its name and salary.\n",
    "\n",
    "from employee import Employee\n",
    "\n",
    "# Creating an Employee object\n",
    "emp = Employee(\"Alice\", 75000)\n",
    "\n",
    "# Display name and salary\n",
    "print(\"Employee Name:\", emp.get_name())\n",
    "print(\"Employee Salary:\", emp.get_salary())\n"
   ]
  },
  {
   "cell_type": "code",
   "execution_count": null,
   "id": "90f87109-befc-4f64-a0aa-f3484ebe1745",
   "metadata": {},
   "outputs": [],
   "source": []
  }
 ],
 "metadata": {
  "kernelspec": {
   "display_name": "Python [conda env:base] *",
   "language": "python",
   "name": "conda-base-py"
  },
  "language_info": {
   "codemirror_mode": {
    "name": "ipython",
    "version": 3
   },
   "file_extension": ".py",
   "mimetype": "text/x-python",
   "name": "python",
   "nbconvert_exporter": "python",
   "pygments_lexer": "ipython3",
   "version": "3.12.7"
  }
 },
 "nbformat": 4,
 "nbformat_minor": 5
}
