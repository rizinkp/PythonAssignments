{
 "cells": [
  {
   "cell_type": "markdown",
   "id": "94173c7e-c982-4140-8eff-200d41894bc8",
   "metadata": {},
   "source": [
    "# Topic :List"
   ]
  },
  {
   "cell_type": "code",
   "execution_count": 25,
   "id": "7593aae8-a449-47f6-830b-5fecc65ac1ab",
   "metadata": {},
   "outputs": [
    {
     "name": "stdout",
     "output_type": "stream",
     "text": [
      "[1, 55, 85, 69, 45]\n",
      "<class 'list'>\n"
     ]
    }
   ],
   "source": [
    "# Exercise Q1. Create a list of 5 random numbers and print the list.\n",
    "\n",
    "listRandom = [1, 55, 85, 69, 45]\n",
    "\n",
    "print(listRandom)\n",
    "\n",
    "print(type(listRandom))"
   ]
  },
  {
   "cell_type": "code",
   "execution_count": 27,
   "id": "e124a9a6-358b-4aa9-ae0f-f6066ed19d3c",
   "metadata": {},
   "outputs": [
    {
     "name": "stdout",
     "output_type": "stream",
     "text": [
      "[1, 55, 85, 69, 45, 33, 48, 69]\n"
     ]
    }
   ],
   "source": [
    "# Q2. Insert 3 new values to the list and print the updated list.\n",
    "listRandom.append(33)\n",
    "listRandom.append(48)\n",
    "listRandom.append(69)\n",
    "\n",
    "print(listRandom)"
   ]
  },
  {
   "cell_type": "code",
   "execution_count": 29,
   "id": "3495676c-a450-4578-b5c2-c9df29f05829",
   "metadata": {},
   "outputs": [
    {
     "name": "stdout",
     "output_type": "stream",
     "text": [
      "1\n",
      "55\n",
      "85\n",
      "69\n",
      "45\n",
      "33\n",
      "48\n",
      "69\n"
     ]
    }
   ],
   "source": [
    "#Q3. Try to use a for loop to print each element in the list.\n",
    "\n",
    "for i in listRandom:\n",
    "    print(i)"
   ]
  },
  {
   "cell_type": "markdown",
   "id": "973b7363-4a70-4d82-9814-1a174a1fe7c7",
   "metadata": {},
   "source": [
    "# Topic: Dictionary"
   ]
  },
  {
   "cell_type": "code",
   "execution_count": 31,
   "id": "0f629c34-801b-4c36-9596-38590e2fbc76",
   "metadata": {},
   "outputs": [
    {
     "name": "stdout",
     "output_type": "stream",
     "text": [
      "{'name': 'John', 'age': '25', 'address': 'New York'}\n",
      "<class 'dict'>\n"
     ]
    }
   ],
   "source": [
    "# Exercise Q1. Create a dictionary with keys 'name', 'age', and 'address' and values 'John', 25, and 'New York' respectively.\n",
    "\n",
    "personalInfo = {'name':'John', 'age': '25', 'address':'New York' }\n",
    "\n",
    "print(personalInfo)\n",
    "\n",
    "print(type(personalInfo))"
   ]
  },
  {
   "cell_type": "code",
   "execution_count": 33,
   "id": "b7c421bc-73fd-4d1e-9135-8e22c23fa9d8",
   "metadata": {},
   "outputs": [
    {
     "name": "stdout",
     "output_type": "stream",
     "text": [
      "dict_items([('name', 'John'), ('age', '25'), ('address', 'New York')])\n"
     ]
    }
   ],
   "source": [
    "print(personalInfo.items())"
   ]
  },
  {
   "cell_type": "code",
   "execution_count": 35,
   "id": "771d9ada-ea85-4d26-9374-9b5e7d4f6d06",
   "metadata": {},
   "outputs": [],
   "source": [
    "#Q2. Add a new key-value pair to the dictionary created in Q1 with key 'phone' and value '1234567890'. \n",
    "\n",
    "personalInfo['phone'] = '1234567890'"
   ]
  },
  {
   "cell_type": "code",
   "execution_count": 37,
   "id": "6b250497-db8c-4c60-b481-7de374a1270e",
   "metadata": {},
   "outputs": [
    {
     "name": "stdout",
     "output_type": "stream",
     "text": [
      "{'name': 'John', 'age': '25', 'address': 'New York', 'phone': '1234567890'}\n"
     ]
    }
   ],
   "source": [
    "print(personalInfo)"
   ]
  },
  {
   "cell_type": "markdown",
   "id": "2ed7c0e5-f499-459a-b262-cdcad5c1a5d4",
   "metadata": {},
   "source": [
    "# Topic: Set"
   ]
  },
  {
   "cell_type": "code",
   "execution_count": 39,
   "id": "49282a27-e016-4790-a62e-fd7bb3b6efbe",
   "metadata": {},
   "outputs": [
    {
     "name": "stdout",
     "output_type": "stream",
     "text": [
      "<class 'set'>\n"
     ]
    }
   ],
   "source": [
    "# Exercise Q1.Create a set with values 1, 2, 3, 4, and 5.\n",
    "\n",
    "numericSet = {1, 2, 3, 4, 5}\n",
    "\n",
    "print(type(numericSet))"
   ]
  },
  {
   "cell_type": "code",
   "execution_count": 41,
   "id": "4df90b8a-c221-4e04-a919-8c4aceb8c04b",
   "metadata": {},
   "outputs": [
    {
     "name": "stdout",
     "output_type": "stream",
     "text": [
      "{1, 2, 3, 4, 5}\n",
      "{1, 2, 3, 4, 5, 6}\n"
     ]
    }
   ],
   "source": [
    "# Q2. Add the value 6 to the set created in Q1. \n",
    "\n",
    "print(numericSet)\n",
    "\n",
    "numericSet.add(6)\n",
    "print(numericSet)"
   ]
  },
  {
   "cell_type": "code",
   "execution_count": 43,
   "id": "a86ad4a8-da42-4ebc-bdd1-0e055cc2b1b8",
   "metadata": {},
   "outputs": [
    {
     "name": "stdout",
     "output_type": "stream",
     "text": [
      "{1, 2, 4, 5, 6}\n"
     ]
    }
   ],
   "source": [
    "#Q3. Remove the value 3 from the set created in Q1.\n",
    "\n",
    "numericSet.remove(3)\n",
    "\n",
    "print(numericSet)"
   ]
  },
  {
   "cell_type": "markdown",
   "id": "fa75a348-715d-4d76-a50d-903bba24f32e",
   "metadata": {},
   "source": [
    "# Topic: Tuple"
   ]
  },
  {
   "cell_type": "code",
   "execution_count": 45,
   "id": "e0bb5105-e6a5-4a66-93fb-a039f3d75356",
   "metadata": {},
   "outputs": [
    {
     "name": "stdout",
     "output_type": "stream",
     "text": [
      "(1, 2, 3, 4)\n",
      "<class 'tuple'>\n"
     ]
    }
   ],
   "source": [
    "# Exercise Q1. Create a tuple with values 1, 2, 3, and 4\n",
    "\n",
    "tupleSample = (1,2,3,4)\n",
    "\n",
    "print(tupleSample)\n",
    "\n",
    "print(type(tupleSample))\n"
   ]
  },
  {
   "cell_type": "code",
   "execution_count": 47,
   "id": "224fc4b4-d5ca-4771-9f6d-11701b7c7c5b",
   "metadata": {},
   "outputs": [
    {
     "name": "stdout",
     "output_type": "stream",
     "text": [
      "4\n"
     ]
    }
   ],
   "source": [
    "# Q2. Print the length of the tuple created in Q1.\n",
    "\n",
    "print(len(tupleSample))"
   ]
  },
  {
   "cell_type": "code",
   "execution_count": null,
   "id": "0eca2197-4de1-4140-a832-a6b60d257de8",
   "metadata": {},
   "outputs": [],
   "source": []
  }
 ],
 "metadata": {
  "kernelspec": {
   "display_name": "Python [conda env:base] *",
   "language": "python",
   "name": "conda-base-py"
  },
  "language_info": {
   "codemirror_mode": {
    "name": "ipython",
    "version": 3
   },
   "file_extension": ".py",
   "mimetype": "text/x-python",
   "name": "python",
   "nbconvert_exporter": "python",
   "pygments_lexer": "ipython3",
   "version": "3.12.7"
  }
 },
 "nbformat": 4,
 "nbformat_minor": 5
}
