{
 "cells": [
  {
   "cell_type": "markdown",
   "id": "2887213c-6f6a-4fb4-b42d-362066816d10",
   "metadata": {},
   "source": [
    "Exercise 1: Create a numpy array containing the numbers from 1 to 10, and then reshape it to a 2x5 matrix."
   ]
  },
  {
   "cell_type": "code",
   "execution_count": 4,
   "id": "1c27d649-e954-4e78-9750-e03a4da310ad",
   "metadata": {},
   "outputs": [
    {
     "name": "stdout",
     "output_type": "stream",
     "text": [
      "[[ 1  2  3  4  5]\n",
      " [ 6  7  8  9 10]]\n"
     ]
    }
   ],
   "source": [
    "import numpy as np\n",
    "\n",
    "arr = np.arange(1, 11)\n",
    "\n",
    "reshaped_arr = arr.reshape((2, 5))\n",
    "\n",
    "print(reshaped_arr)"
   ]
  },
  {
   "cell_type": "markdown",
   "id": "165d7a01-51b9-41c2-9913-a96b622a2ae9",
   "metadata": {},
   "source": [
    "\n",
    "Exercise 2: Create a numpy array containing the numbers from 1 to 20, and then extract the elements between the 5th and 15th index."
   ]
  },
  {
   "cell_type": "code",
   "execution_count": 16,
   "id": "5e721ecb-2536-474b-bce4-cdf651df2ee6",
   "metadata": {},
   "outputs": [
    {
     "name": "stdout",
     "output_type": "stream",
     "text": [
      "[ 6  7  8  9 10 11 12 13 14 15 16]\n"
     ]
    }
   ],
   "source": [
    "import numpy as np\n",
    "\n",
    "arr = np.arange(1, 21)\n",
    "\n",
    "arr_elements = arr[5:16]\n",
    "\n",
    "print(arr_elements)\n"
   ]
  },
  {
   "cell_type": "markdown",
   "id": "ce5a3cba-5230-4d31-8fd0-4a3970359432",
   "metadata": {},
   "source": [
    "Exercise 3: Create a Pandas series with the following data: {'apples': 3, 'bananas': 2, 'oranges': 1}. Then, add a new item to the series with the key 'pears' and the value 4."
   ]
  },
  {
   "cell_type": "code",
   "execution_count": 23,
   "id": "398a5900-dc43-4986-a3e4-5554f805f0ef",
   "metadata": {},
   "outputs": [
    {
     "name": "stdout",
     "output_type": "stream",
     "text": [
      "apples     3\n",
      "bananas    2\n",
      "oranges    1\n",
      "pears      4\n",
      "Name: Fruits, dtype: int64\n"
     ]
    }
   ],
   "source": [
    "import pandas as pd\n",
    "\n",
    "fruits = pd.Series({'apples': 3, 'bananas': 2, 'oranges': 1})\n",
    "\n",
    "fruits['pears'] = 4\n",
    "\n",
    "fruits.name = \"Fruits\"\n",
    "\n",
    "print(fruits)"
   ]
  },
  {
   "cell_type": "markdown",
   "id": "bbac6b60-6ab0-456f-9694-55e456e4863e",
   "metadata": {},
   "source": [
    "Exercise 4: Create a dataframe with the following columns: name, age, and gender. The dataframe should have 10 rows of data."
   ]
  },
  {
   "cell_type": "code",
   "execution_count": 28,
   "id": "bb43c785-dbd5-4679-84b9-cd5352e59f3d",
   "metadata": {},
   "outputs": [
    {
     "name": "stdout",
     "output_type": "stream",
     "text": [
      "      Name  Age  Gender\n",
      "0    Alice   25  Female\n",
      "1      Bob   30    Male\n",
      "2  Charlie   22    Male\n",
      "3    David   35    Male\n",
      "4      Eva   28  Female\n",
      "5    Frank   33    Male\n",
      "6    Grace   26  Female\n",
      "7    Helen   24  Female\n",
      "8      Ian   29    Male\n",
      "9     Jane   31  Female\n"
     ]
    }
   ],
   "source": [
    "import pandas as pd\n",
    "\n",
    "data = {'Name': ['Alice', 'Bob', 'Charlie', 'David', 'Eva', 'Frank', 'Grace', 'Helen', 'Ian', 'Jane'],\n",
    "    'Age': [25, 30, 22, 35, 28, 33, 26, 24, 29, 31],\n",
    "    'Gender': ['Female', 'Male', 'Male', 'Male', 'Female', 'Male', 'Female', 'Female', 'Male', 'Female']\n",
    "}\n",
    "\n",
    "df = pd.DataFrame(data)\n",
    "\n",
    "print(df)"
   ]
  },
  {
   "cell_type": "markdown",
   "id": "68636e34-4588-4b1d-a967-453f0c13d51d",
   "metadata": {},
   "source": [
    "Exercise 5: Add a new column to the data frame created in question 1, called occupation. The values for this column should be Programmer, Manager, and Analyst, corresponding to the rows in the dataframe."
   ]
  },
  {
   "cell_type": "code",
   "execution_count": 31,
   "id": "9de1b5d9-6b36-4367-9ec0-12a67a909990",
   "metadata": {},
   "outputs": [
    {
     "name": "stdout",
     "output_type": "stream",
     "text": [
      "      Name  Age  Gender  occupation\n",
      "0    Alice   25  Female  Programmer\n",
      "1      Bob   30    Male     Manager\n",
      "2  Charlie   22    Male     Analyst\n",
      "3    David   35    Male  Programmer\n",
      "4      Eva   28  Female     Manager\n",
      "5    Frank   33    Male     Analyst\n",
      "6    Grace   26  Female  Programmer\n",
      "7    Helen   24  Female     Manager\n",
      "8      Ian   29    Male     Analyst\n",
      "9     Jane   31  Female  Programmer\n"
     ]
    }
   ],
   "source": [
    "occupations = ['Programmer', 'Manager', 'Analyst'] * 3 + ['Programmer']  \n",
    "df['occupation'] = occupations\n",
    "print(df)"
   ]
  },
  {
   "cell_type": "markdown",
   "id": "bef1d516-3b1a-4ca4-8f82-0d4b6024cc6b",
   "metadata": {},
   "source": [
    "Exercise 6: Select the rows of the dataframe where the age is greater than or equal to 30."
   ]
  },
  {
   "cell_type": "code",
   "execution_count": 36,
   "id": "6a9f0f90-4c1d-4c58-b7b4-8040f09a3d6a",
   "metadata": {},
   "outputs": [
    {
     "name": "stdout",
     "output_type": "stream",
     "text": [
      "    Name  Age  Gender  occupation\n",
      "1    Bob   30    Male     Manager\n",
      "3  David   35    Male  Programmer\n",
      "5  Frank   33    Male     Analyst\n",
      "9   Jane   31  Female  Programmer\n"
     ]
    }
   ],
   "source": [
    "filtered_df = df[df['Age'] >= 30]\n",
    "\n",
    "print(filtered_df)"
   ]
  },
  {
   "cell_type": "markdown",
   "id": "8cce7d47-8461-4864-bc03-4c3127838dd8",
   "metadata": {},
   "source": [
    "Exercise 7: Convert this dataframe to a csv file and read that csv file, finally display the contents."
   ]
  },
  {
   "cell_type": "code",
   "execution_count": 41,
   "id": "9fcf002d-4c53-4522-8b99-3fa34b874a1c",
   "metadata": {},
   "outputs": [
    {
     "name": "stdout",
     "output_type": "stream",
     "text": [
      "      Name  Age  Gender  occupation\n",
      "0    Alice   25  Female  Programmer\n",
      "1      Bob   30    Male     Manager\n",
      "2  Charlie   22    Male     Analyst\n",
      "3    David   35    Male  Programmer\n",
      "4      Eva   28  Female     Manager\n",
      "5    Frank   33    Male     Analyst\n",
      "6    Grace   26  Female  Programmer\n",
      "7    Helen   24  Female     Manager\n",
      "8      Ian   29    Male     Analyst\n",
      "9     Jane   31  Female  Programmer\n"
     ]
    }
   ],
   "source": [
    "import pandas as pd\n",
    "\n",
    "df.to_csv('DataFrameAssignment.csv', index=False)\n",
    "\n",
    "df_from_csv = pd.read_csv('DataFrameAssignment.csv')\n",
    "\n",
    "print(df_from_csv)"
   ]
  },
  {
   "cell_type": "code",
   "execution_count": null,
   "id": "609f632c-6e39-4428-844a-f6d0b73074a9",
   "metadata": {},
   "outputs": [],
   "source": []
  }
 ],
 "metadata": {
  "kernelspec": {
   "display_name": "Python [conda env:base] *",
   "language": "python",
   "name": "conda-base-py"
  },
  "language_info": {
   "codemirror_mode": {
    "name": "ipython",
    "version": 3
   },
   "file_extension": ".py",
   "mimetype": "text/x-python",
   "name": "python",
   "nbconvert_exporter": "python",
   "pygments_lexer": "ipython3",
   "version": "3.12.7"
  }
 },
 "nbformat": 4,
 "nbformat_minor": 5
}
