{
 "cells": [
  {
   "cell_type": "code",
   "execution_count": 72,
   "id": "18105324-e6e3-4e6d-aa33-cce422e488e5",
   "metadata": {},
   "outputs": [
    {
     "name": "stdout",
     "output_type": "stream",
     "text": [
      "8\n"
     ]
    }
   ],
   "source": [
    "# 1. What does the len() function do in Python? Write a code example using len() to find the length of a list. \n",
    "\n",
    "# Answer:\tLen() is an built in method in Python, which is used to find the number of item or item count from a list\n",
    "\n",
    "list = [1, 2,3,4,5,6,7,8]\n",
    "listLength = len(list)\n",
    "print(listLength)"
   ]
  },
  {
   "cell_type": "code",
   "execution_count": 24,
   "id": "55b584c2-a4bf-409e-82df-9b410574d464",
   "metadata": {},
   "outputs": [
    {
     "name": "stdout",
     "output_type": "stream",
     "text": [
      "Hello, Rizin Hussain KP\n"
     ]
    }
   ],
   "source": [
    "# 2. Write a Python function greet(name) that takes a person's name as input and prints \"Hello, [name]!\".\n",
    "def greet(name):\n",
    "    greetMessage = f\"Hello, {name}\"\n",
    "    print(greetMessage)\n",
    "\n",
    "greet('Rizin Hussain KP')"
   ]
  },
  {
   "cell_type": "code",
   "execution_count": 44,
   "id": "15beb61e-b137-45ce-8aff-1cd1b996b6b2",
   "metadata": {},
   "outputs": [
    {
     "name": "stdout",
     "output_type": "stream",
     "text": [
      "Max. number from the list is: 333\n"
     ]
    }
   ],
   "source": [
    "# 3. Write a Python function find_maximum(numbers) that takes a list of integers and returns the maximum value without using the built-in max() function. \n",
    "#Use a loop to iterate through the list and compare values. \n",
    "\n",
    "def find_maximum(*numbers):\n",
    "    maxNumber = 0;\n",
    "    maxCheckCount = 0\n",
    "    for num1 in numbers:\n",
    "        maxCheckCount = 0\n",
    "        for num2 in numbers:\n",
    "            if(num1 > num2):\n",
    "                maxCheckCount = maxCheckCount + 1\n",
    "\n",
    "            if(maxCheckCount == len(numbers) - 1):\n",
    "                maxNumber = num1\n",
    "    \n",
    "    return maxNumber\n",
    "\n",
    "max_Number = find_maximum(150, 11, 55, 8, 5, 333)\n",
    "print(f\"Max. number from the list is: {max_Number}\")\n",
    "\n",
    "            "
   ]
  },
  {
   "cell_type": "code",
   "execution_count": 74,
   "id": "a07418e6-f3e6-46ac-a9a4-19a81e2fa079",
   "metadata": {},
   "outputs": [
    {
     "name": "stdout",
     "output_type": "stream",
     "text": [
      "Inside function: 14\n",
      "Outside function: 11\n",
      "\n",
      "***************By using global keyword***********************\n",
      "\n",
      "Inside function: 13\n",
      "Outside function: 13\n"
     ]
    }
   ],
   "source": [
    "# 4. Explain the difference between local and global variables in a Python function. Write a program where a global variable and a local variable \n",
    "#have the same name and show how Python differentiates between them.\n",
    "\n",
    "#____________________________________________________________________________________________________________\n",
    "# Answer: Explanation:\n",
    "# Global variable means, it declares outside of the function body, it will be accessible any where in the file. Local variable means, it declares inside the function body.\n",
    "# When declares a variable with same names across Outside and Inside function then if we change the value from inside the method, \n",
    "# that does not affect the variable value which is in outsside of the function, until it is changing from outside of the function explicitly.\n",
    "# We can refer the same global variable from inside the function by adding keyword 'global' as prefix of variable name. \n",
    "# So, it will trat it as same variable across inside and outside function. So, changes are making for that variable inside the function, \n",
    "# which will reflect it.\n",
    "#_______________________________________________________________________________________________________________\n",
    "\n",
    "kiloMeter = 11\n",
    "def addKiloMeter():\n",
    "    kiloMeter = 12\n",
    "    kiloMeter = kiloMeter + 2\n",
    "    print(f\"Inside function: {kiloMeter}\")\n",
    "\n",
    "addKiloMeter()\n",
    "print(f\"Outside function: {kiloMeter}\")\n",
    "\n",
    "print('\\n\\r***************By using global keyword***********************\\n\\r')\n",
    "kiloMeter2 = 11\n",
    "def addKiloMeter2():\n",
    "    global kiloMeter2\n",
    "    kiloMeter2 = kiloMeter2 + 2\n",
    "    print(f\"Inside function: {kiloMeter2}\")\n",
    "\n",
    "addKiloMeter2()\n",
    "print(f\"Outside function: {kiloMeter2}\")\n",
    "\n"
   ]
  },
  {
   "cell_type": "code",
   "execution_count": 80,
   "id": "4dd4d263-8a62-4a59-ba3d-24980ceddbc8",
   "metadata": {},
   "outputs": [
    {
     "name": "stdout",
     "output_type": "stream",
     "text": [
      "Area of rectangle is: 945\n",
      "Area of rectangle is: 75\n"
     ]
    }
   ],
   "source": [
    "# 5. Create a function calculate_area(length, width=5) that calculates the area of a rectangle. If only the length is provided, \n",
    "#the function should assume the width is 5. Show how the function behaves when called with and without the width argument.\n",
    "\n",
    "def calculate_area(length, width=5):\n",
    "    Area =  length * width\n",
    "    print(f\"Area of rectangle is: {Area}\")\n",
    "\n",
    "#with Width value\n",
    "calculate_area(15, 63)\n",
    "    \n",
    "#without Width value\n",
    "calculate_area(15)\n"
   ]
  },
  {
   "cell_type": "code",
   "execution_count": null,
   "id": "8c423cd5-4776-47a3-8c92-03ebcf109c96",
   "metadata": {},
   "outputs": [],
   "source": []
  }
 ],
 "metadata": {
  "kernelspec": {
   "display_name": "Python [conda env:base] *",
   "language": "python",
   "name": "conda-base-py"
  },
  "language_info": {
   "codemirror_mode": {
    "name": "ipython",
    "version": 3
   },
   "file_extension": ".py",
   "mimetype": "text/x-python",
   "name": "python",
   "nbconvert_exporter": "python",
   "pygments_lexer": "ipython3",
   "version": "3.12.7"
  }
 },
 "nbformat": 4,
 "nbformat_minor": 5
}
